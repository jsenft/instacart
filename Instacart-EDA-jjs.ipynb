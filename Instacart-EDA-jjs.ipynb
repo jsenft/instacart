{
 "cells": [
  {
   "cell_type": "markdown",
   "metadata": {},
   "source": [
    "## Instacart Market Basket Analysis\n",
    "In this notebook, we explore the data and ask questions, then seek to answer some of the questions using Pandas & Numpy. This is an initial analysis, therefore the findings are tentative.\n",
    "\n",
    "* [Create big merged dataframe](#Create-big-merged-dataframe-with-orders-&-departments)\n",
    "* [Take a first look at the data](#Take-a-first-look-at-the-data)\n",
    "* [\"Missing\" Department](#\"Missing\"-department)\n",
    "* [When items are ordered](#When-items-are-ordered)\n",
    "* [Gone Bananas!](#Gone-Bananas!)\n",
    "* [More EDA](#More-EDA)"
   ]
  },
  {
   "cell_type": "code",
   "execution_count": 1,
   "metadata": {},
   "outputs": [],
   "source": [
    "import pandas as pd\n",
    "import seaborn as sns\n",
    "import numpy as np\n",
    "import matplotlib.pyplot as plt\n",
    "import matplotlib as mpl\n",
    "%matplotlib inline\n",
    "\n",
    "color = sns.color_palette()\n",
    "sns.set()"
   ]
  },
  {
   "cell_type": "markdown",
   "metadata": {},
   "source": [
    "Some initial questions:\n",
    "* What are the most popular items purchased by prior customers?\n",
    "* What are the most popular departments?\n",
    "* What days of the week and hour of the day have the most orders?\n",
    "* What are the most reordered items?"
   ]
  },
  {
   "cell_type": "markdown",
   "metadata": {
    "collapsed": true
   },
   "source": [
    "## Create big merged dataframe with item order history and other information"
   ]
  },
  {
   "cell_type": "code",
   "execution_count": 2,
   "metadata": {},
   "outputs": [],
   "source": [
    "order_products_train = pd.read_csv(\"Data/order_products__train.csv\")\n",
    "order_products_prior = pd.read_csv(\"Data/order_products__prior.csv\")\n",
    "orders = pd.read_csv(\"Data/orders.csv\")\n",
    "products = pd.read_csv(\"Data/products.csv\")\n",
    "aisles = pd.read_csv(\"Data/aisles.csv\")\n",
    "departments = pd.read_csv(\"Data/departments.csv\")"
   ]
  },
  {
   "cell_type": "code",
   "execution_count": 3,
   "metadata": {},
   "outputs": [],
   "source": [
    "merge_prior = pd.merge(order_products_prior, products, how='left', on='product_id')\n",
    "merge_prior = pd.merge(merge_prior, departments, how='left', on='department_id')\n",
    "merge_prior = pd.merge(merge_prior, orders, how='inner', on='order_id')\n",
    "merge_prior = pd.merge(merge_prior, aisles, how='inner', on='aisle_id')"
   ]
  },
  {
   "cell_type": "markdown",
   "metadata": {},
   "source": [
    "## Take a first look at the data and answer initial questions"
   ]
  },
  {
   "cell_type": "code",
   "execution_count": 4,
   "metadata": {},
   "outputs": [
    {
     "data": {
      "text/plain": [
       "Index(['order_id', 'product_id', 'add_to_cart_order', 'reordered',\n",
       "       'product_name', 'aisle_id', 'department_id', 'department', 'user_id',\n",
       "       'eval_set', 'order_number', 'order_dow', 'order_hour_of_day',\n",
       "       'days_since_prior_order', 'aisle'],\n",
       "      dtype='object')"
      ]
     },
     "execution_count": 4,
     "metadata": {},
     "output_type": "execute_result"
    }
   ],
   "source": [
    "merge_prior.columns"
   ]
  },
  {
   "cell_type": "code",
   "execution_count": 5,
   "metadata": {},
   "outputs": [
    {
     "data": {
      "text/plain": [
       "32434489"
      ]
     },
     "execution_count": 5,
     "metadata": {},
     "output_type": "execute_result"
    }
   ],
   "source": [
    "len(merge_prior) # Total number of items in prior dataset, > 32M"
   ]
  },
  {
   "cell_type": "code",
   "execution_count": 22,
   "metadata": {},
   "outputs": [
    {
     "name": "stdout",
     "output_type": "stream",
     "text": [
      "<class 'pandas.core.frame.DataFrame'>\n",
      "Int64Index: 32434489 entries, 0 to 32434488\n",
      "Data columns (total 15 columns):\n",
      "order_id                  int64\n",
      "product_id                int64\n",
      "add_to_cart_order         int64\n",
      "reordered                 int64\n",
      "product_name              object\n",
      "aisle_id                  int64\n",
      "department_id             int64\n",
      "department                object\n",
      "user_id                   int64\n",
      "eval_set                  object\n",
      "order_number              int64\n",
      "order_dow                 int64\n",
      "order_hour_of_day         int64\n",
      "days_since_prior_order    float64\n",
      "aisle                     object\n",
      "dtypes: float64(1), int64(10), object(4)\n",
      "memory usage: 5.1+ GB\n"
     ]
    }
   ],
   "source": [
    "merge_prior.info() # Checking that numeric column types are numeric"
   ]
  },
  {
   "cell_type": "code",
   "execution_count": 6,
   "metadata": {},
   "outputs": [
    {
     "data": {
      "text/plain": [
       "Banana                    472565\n",
       "Bag of Organic Bananas    379450\n",
       "Organic Strawberries      264683\n",
       "Organic Baby Spinach      241921\n",
       "Organic Hass Avocado      213584\n",
       "Organic Avocado           176815\n",
       "Large Lemon               152657\n",
       "Strawberries              142951\n",
       "Limes                     140627\n",
       "Organic Whole Milk        137905\n",
       "Name: product_name, dtype: int64"
      ]
     },
     "execution_count": 6,
     "metadata": {},
     "output_type": "execute_result"
    }
   ],
   "source": [
    "merge_prior['product_name'].value_counts(dropna=False)[0:10]"
   ]
  },
  {
   "cell_type": "markdown",
   "metadata": {},
   "source": [
    "The top 9 most ordered items are all fresh produce, followed by fresh milk."
   ]
  },
  {
   "cell_type": "code",
   "execution_count": 7,
   "metadata": {},
   "outputs": [
    {
     "data": {
      "text/plain": [
       "produce            9479291\n",
       "dairy eggs         5414016\n",
       "snacks             2887550\n",
       "beverages          2690129\n",
       "frozen             2236432\n",
       "pantry             1875577\n",
       "bakery             1176787\n",
       "canned goods       1068058\n",
       "deli               1051249\n",
       "dry goods pasta     866627\n",
       "Name: department, dtype: int64"
      ]
     },
     "execution_count": 7,
     "metadata": {},
     "output_type": "execute_result"
    }
   ],
   "source": [
    "merge_prior['department'].value_counts(dropna=False)[0:10]"
   ]
  },
  {
   "cell_type": "code",
   "execution_count": 27,
   "metadata": {},
   "outputs": [
    {
     "data": {
      "text/plain": [
       "count     32434489\n",
       "unique          21\n",
       "top        produce\n",
       "freq       9479291\n",
       "Name: department, dtype: object"
      ]
     },
     "execution_count": 27,
     "metadata": {},
     "output_type": "execute_result"
    }
   ],
   "source": [
    "merge_prior['department'].describe()"
   ]
  },
  {
   "cell_type": "code",
   "execution_count": 8,
   "metadata": {},
   "outputs": [
    {
     "data": {
      "text/plain": [
       "0.45918118210525838"
      ]
     },
     "execution_count": 8,
     "metadata": {},
     "output_type": "execute_result"
    }
   ],
   "source": [
    "(merge_prior['department'].value_counts()[0] + merge_prior['department'].value_counts()[1])/len(merge_prior)"
   ]
  },
  {
   "cell_type": "markdown",
   "metadata": {},
   "source": [
    "45.9% of all the prior items ordered are categorized as either produce or dairy eggs!"
   ]
  },
  {
   "cell_type": "markdown",
   "metadata": {},
   "source": [
    "## \"Missing\" department"
   ]
  },
  {
   "cell_type": "code",
   "execution_count": 26,
   "metadata": {},
   "outputs": [
    {
     "data": {
      "image/png": "[encoded data removed]",
      "text/plain": [
       "<matplotlib.figure.Figure at 0x1a1e906ac8>"
      ]
     },
     "metadata": {},
     "output_type": "display_data"
    }
   ],
   "source": [
    "plt.figure(figsize=(12,8))\n",
    "sns.countplot(x=\"department\", data=merge_prior, color=color[3])\n",
    "plt.ylabel('Number of Items Ordered', fontsize=12)\n",
    "plt.xlabel('Department', fontsize=12)\n",
    "plt.xticks(rotation='vertical')\n",
    "plt.yticks([0, 2000000, 4000000, 6000000, 8000000, 10000000], ['0', '2M', '4M', '6M', '8M', '10M'])\n",
    "plt.title(\"Items ordered by department (in millions)\", fontsize=15)\n",
    "plt.show()"
   ]
  },
  {
   "cell_type": "markdown",
   "metadata": {},
   "source": [
    "Above we see a histogram of the \"department\" column from the prior items sold. There's also a category called \"missing.\" Let's take a closer look at it."
   ]
  },
  {
   "cell_type": "code",
   "execution_count": 29,
   "metadata": {},
   "outputs": [
    {
     "data": {
      "text/html": [
       "<div>\n",
       "<style>\n",
       "    .dataframe thead tr:only-child th {\n",
       "        text-align: right;\n",
       "    }\n",
       "\n",
       "    .dataframe thead th {\n",
       "        text-align: left;\n",
       "    }\n",
       "\n",
       "    .dataframe tbody tr th {\n",
       "        vertical-align: top;\n",
       "    }\n",
       "</style>\n",
       "<table border=\"1\" class=\"dataframe\">\n",
       "  <thead>\n",
       "    <tr style=\"text-align: right;\">\n",
       "      <th></th>\n",
       "      <th>order_id</th>\n",
       "      <th>product_id</th>\n",
       "      <th>add_to_cart_order</th>\n",
       "      <th>reordered</th>\n",
       "      <th>product_name</th>\n",
       "      <th>aisle_id</th>\n",
       "      <th>department_id</th>\n",
       "      <th>department</th>\n",
       "      <th>user_id</th>\n",
       "      <th>eval_set</th>\n",
       "      <th>order_number</th>\n",
       "      <th>order_dow</th>\n",
       "      <th>order_hour_of_day</th>\n",
       "      <th>days_since_prior_order</th>\n",
       "      <th>aisle</th>\n",
       "    </tr>\n",
       "  </thead>\n",
       "  <tbody>\n",
       "    <tr>\n",
       "      <th>31079504</th>\n",
       "      <td>75</td>\n",
       "      <td>44077</td>\n",
       "      <td>13</td>\n",
       "      <td>0</td>\n",
       "      <td>Tomato Basil Bisque Soup</td>\n",
       "      <td>100</td>\n",
       "      <td>21</td>\n",
       "      <td>missing</td>\n",
       "      <td>106387</td>\n",
       "      <td>prior</td>\n",
       "      <td>1</td>\n",
       "      <td>5</td>\n",
       "      <td>19</td>\n",
       "      <td>NaN</td>\n",
       "      <td>missing</td>\n",
       "    </tr>\n",
       "    <tr>\n",
       "      <th>31079505</th>\n",
       "      <td>154</td>\n",
       "      <td>41801</td>\n",
       "      <td>3</td>\n",
       "      <td>1</td>\n",
       "      <td>Cold Pressed Watermelon &amp; Lemon Juice Blend</td>\n",
       "      <td>100</td>\n",
       "      <td>21</td>\n",
       "      <td>missing</td>\n",
       "      <td>73310</td>\n",
       "      <td>prior</td>\n",
       "      <td>68</td>\n",
       "      <td>6</td>\n",
       "      <td>19</td>\n",
       "      <td>0.0</td>\n",
       "      <td>missing</td>\n",
       "    </tr>\n",
       "    <tr>\n",
       "      <th>31079506</th>\n",
       "      <td>154</td>\n",
       "      <td>11806</td>\n",
       "      <td>4</td>\n",
       "      <td>0</td>\n",
       "      <td>Paleo Blueberry Muffin</td>\n",
       "      <td>100</td>\n",
       "      <td>21</td>\n",
       "      <td>missing</td>\n",
       "      <td>73310</td>\n",
       "      <td>prior</td>\n",
       "      <td>68</td>\n",
       "      <td>6</td>\n",
       "      <td>19</td>\n",
       "      <td>0.0</td>\n",
       "      <td>missing</td>\n",
       "    </tr>\n",
       "    <tr>\n",
       "      <th>31079507</th>\n",
       "      <td>420</td>\n",
       "      <td>7456</td>\n",
       "      <td>4</td>\n",
       "      <td>0</td>\n",
       "      <td>Organic Poblano Pepper</td>\n",
       "      <td>100</td>\n",
       "      <td>21</td>\n",
       "      <td>missing</td>\n",
       "      <td>161762</td>\n",
       "      <td>prior</td>\n",
       "      <td>37</td>\n",
       "      <td>2</td>\n",
       "      <td>11</td>\n",
       "      <td>2.0</td>\n",
       "      <td>missing</td>\n",
       "    </tr>\n",
       "    <tr>\n",
       "      <th>31079508</th>\n",
       "      <td>501</td>\n",
       "      <td>3884</td>\n",
       "      <td>11</td>\n",
       "      <td>0</td>\n",
       "      <td>Organic Plain Unsweetened Nondairy Cashew Yogurt</td>\n",
       "      <td>100</td>\n",
       "      <td>21</td>\n",
       "      <td>missing</td>\n",
       "      <td>86142</td>\n",
       "      <td>prior</td>\n",
       "      <td>40</td>\n",
       "      <td>2</td>\n",
       "      <td>12</td>\n",
       "      <td>16.0</td>\n",
       "      <td>missing</td>\n",
       "    </tr>\n",
       "  </tbody>\n",
       "</table>\n",
       "</div>"
      ],
      "text/plain": [
       "          order_id  product_id  add_to_cart_order  reordered  \\\n",
       "31079504        75       44077                 13          0   \n",
       "31079505       154       41801                  3          1   \n",
       "31079506       154       11806                  4          0   \n",
       "31079507       420        7456                  4          0   \n",
       "31079508       501        3884                 11          0   \n",
       "\n",
       "                                              product_name  aisle_id  \\\n",
       "31079504                          Tomato Basil Bisque Soup       100   \n",
       "31079505       Cold Pressed Watermelon & Lemon Juice Blend       100   \n",
       "31079506                            Paleo Blueberry Muffin       100   \n",
       "31079507                            Organic Poblano Pepper       100   \n",
       "31079508  Organic Plain Unsweetened Nondairy Cashew Yogurt       100   \n",
       "\n",
       "          department_id department  user_id eval_set  order_number  order_dow  \\\n",
       "31079504             21    missing   106387    prior             1          5   \n",
       "31079505             21    missing    73310    prior            68          6   \n",
       "31079506             21    missing    73310    prior            68          6   \n",
       "31079507             21    missing   161762    prior            37          2   \n",
       "31079508             21    missing    86142    prior            40          2   \n",
       "\n",
       "          order_hour_of_day  days_since_prior_order    aisle  \n",
       "31079504                 19                     NaN  missing  \n",
       "31079505                 19                     0.0  missing  \n",
       "31079506                 19                     0.0  missing  \n",
       "31079507                 11                     2.0  missing  \n",
       "31079508                 12                    16.0  missing  "
      ]
     },
     "execution_count": 29,
     "metadata": {},
     "output_type": "execute_result"
    }
   ],
   "source": [
    "missing_dept = merge_prior[merge_prior['department'] == 'missing']\n",
    "missing_dept.head()"
   ]
  },
  {
   "cell_type": "code",
   "execution_count": 30,
   "metadata": {},
   "outputs": [
    {
     "data": {
      "text/plain": [
       "69145"
      ]
     },
     "execution_count": 30,
     "metadata": {},
     "output_type": "execute_result"
    }
   ],
   "source": [
    "len(missing_dept)"
   ]
  },
  {
   "cell_type": "code",
   "execution_count": 33,
   "metadata": {},
   "outputs": [
    {
     "data": {
      "text/plain": [
       "100    69145\n",
       "Name: aisle_id, dtype: int64"
      ]
     },
     "execution_count": 33,
     "metadata": {},
     "output_type": "execute_result"
    }
   ],
   "source": [
    "missing_dept['aisle_id'].value_counts()"
   ]
  },
  {
   "cell_type": "code",
   "execution_count": 34,
   "metadata": {},
   "outputs": [
    {
     "data": {
      "text/plain": [
       "count                         69145\n",
       "unique                         1255\n",
       "top       Organic Riced Cauliflower\n",
       "freq                           8366\n",
       "Name: product_name, dtype: object"
      ]
     },
     "execution_count": 34,
     "metadata": {},
     "output_type": "execute_result"
    }
   ],
   "source": [
    "missing_dept['product_name'].describe()"
   ]
  },
  {
   "cell_type": "markdown",
   "metadata": {},
   "source": [
    "We have 69145 items categorized as \"missing\" depertment, all with the same \"aisle_id\" value. There are 1255 different products categorized this way. This is only 0.02% of the dataset, so its probably not worth attempting to fix at this time."
   ]
  },
  {
   "cell_type": "markdown",
   "metadata": {},
   "source": [
    "## When items are ordered"
   ]
  },
  {
   "cell_type": "code",
   "execution_count": 77,
   "metadata": {},
   "outputs": [
    {
     "data": {
      "image/png": "[encoded data removed]",
      "text/plain": [
       "<matplotlib.figure.Figure at 0x1a1f5137f0>"
      ]
     },
     "metadata": {},
     "output_type": "display_data"
    }
   ],
   "source": [
    "plt.figure(figsize=(12,8))\n",
    "sns.countplot(x=\"order_dow\", data=merge_prior, color=color[0])\n",
    "plt.ylabel('Number of Items Ordered', fontsize=12)\n",
    "plt.xlabel('Day of week', fontsize=12)\n",
    "plt.xticks([0, 1, 2, 3, 4, 5, 6],['Saturday', 'Sunday', 'Monday', 'Tuesday', 'Wednesday', 'Thursday', 'Friday'])\n",
    "plt.xticks(rotation='vertical')\n",
    "plt.yticks([0, 1000000, 2000000, 3000000, 4000000, 5000000, 6000000], ['0', '1M', '2M', '3M', '4M', '5M', '6M'])\n",
    "plt.title(\"Items ordered by day of the week (in millions)\", fontsize=15)\n",
    "plt.show()"
   ]
  },
  {
   "cell_type": "markdown",
   "metadata": {},
   "source": [
    "This chart shows that Saturday (0) and Sunday (1) had the highest number of items ordered. Around 12 million total for those 2 days."
   ]
  },
  {
   "cell_type": "code",
   "execution_count": 21,
   "metadata": {},
   "outputs": [
    {
     "data": {
      "image/png": "[encoded data removed]",
      "text/plain": [
       "<matplotlib.figure.Figure at 0x1a1f699828>"
      ]
     },
     "metadata": {},
     "output_type": "display_data"
    }
   ],
   "source": [
    "plt.figure(figsize=(12,8))\n",
    "sns.countplot(x=\"order_hour_of_day\", data=merge_prior, color=color[1])\n",
    "plt.ylabel('Number of Items Ordered (in millions)', fontsize=12)\n",
    "plt.xlabel('Hour of the day', fontsize=12)\n",
    "plt.yticks([0, 500000, 1000000, 1500000, 2000000, 2500000], ['0', '0.5M', '1M', '1.5M', '2M', '2.5M'])\n",
    "plt.title(\"Items ordered by hour of the day\", fontsize=15)\n",
    "plt.show()"
   ]
  },
  {
   "cell_type": "markdown",
   "metadata": {},
   "source": [
    "Here we can see that most of the orders are placed between 9am and 5pm, with 10am to 12pm the busiest."
   ]
  },
  {
   "cell_type": "markdown",
   "metadata": {},
   "source": [
    "## Gone Bananas!"
   ]
  },
  {
   "cell_type": "code",
   "execution_count": 11,
   "metadata": {},
   "outputs": [
    {
     "data": {
      "text/plain": [
       "19126536"
      ]
     },
     "execution_count": 11,
     "metadata": {},
     "output_type": "execute_result"
    }
   ],
   "source": [
    "reordered_items = merge_prior[merge_prior['reordered'] == 1]\n",
    "len(reordered_items) # Number of reordered items in prior dataset, ~ 19M"
   ]
  },
  {
   "cell_type": "code",
   "execution_count": 12,
   "metadata": {},
   "outputs": [
    {
     "data": {
      "text/plain": [
       "Banana                    398609\n",
       "Bag of Organic Bananas    315913\n",
       "Organic Strawberries      205845\n",
       "Organic Baby Spinach      186884\n",
       "Organic Hass Avocado      170131\n",
       "Organic Avocado           134044\n",
       "Organic Whole Milk        114510\n",
       "Large Lemon               106255\n",
       "Organic Raspberries       105409\n",
       "Strawberries               99802\n",
       "Name: product_name, dtype: int64"
      ]
     },
     "execution_count": 12,
     "metadata": {},
     "output_type": "execute_result"
    }
   ],
   "source": [
    "reordered_items['product_name'].value_counts()[:10]"
   ]
  },
  {
   "cell_type": "markdown",
   "metadata": {},
   "source": [
    "The top 6 items are the same as with the full prior dataset."
   ]
  },
  {
   "cell_type": "markdown",
   "metadata": {},
   "source": [
    "We can see from the above list that there's some overlap in the way things are named. When ordering, you can choose \"Banana,\" \"Bananas,\" \"Organic Banana,\" or \"Bag of Organinc Bananas.\" Is \"Banana\" really a single banana, or is it a bunch or a \"bag?\" We can't tell fom this dataset, but we can see that bananas are very popular! Let's take a look at all of the items with the word \"banana\" in them. In all, we have around 875,000 produce bananas sold (top 3 items in the list below, plus \"Bananas.\")"
   ]
  },
  {
   "cell_type": "code",
   "execution_count": 23,
   "metadata": {},
   "outputs": [
    {
     "data": {
      "text/plain": [
       "Banana                                                     472565\n",
       "Bag of Organic Bananas                                     379450\n",
       "Organic Banana                                              18583\n",
       "Organic YoKids Smoothie Strawberry Banana Lowfat Yogurt      7273\n",
       "YoKids Strawberry Banana/Strawberry Yogurt                   6739\n",
       "Bananas                                                      5140\n",
       "Peach,  Apricot & Banana Stage 2 Baby Food                   5097\n",
       "Organic Apple Banana GoGo Squeez                             4625\n",
       "Yo Baby Organic Whole Milk Banana Mango Yogurt               4572\n",
       "Baby Food Stage 2 Pumpkin Banana                             4460\n",
       "Name: product_name, dtype: int64"
      ]
     },
     "execution_count": 23,
     "metadata": {},
     "output_type": "execute_result"
    }
   ],
   "source": [
    "banana_items = merge_prior['product_name'].str.contains('banana', case=False, na=False)\n",
    "merge_prior[banana_items].product_name.value_counts()[:10]"
   ]
  },
  {
   "cell_type": "markdown",
   "metadata": {},
   "source": [
    "There are even more choices when it comes to avocados as seen below."
   ]
  },
  {
   "cell_type": "code",
   "execution_count": 24,
   "metadata": {},
   "outputs": [
    {
     "data": {
      "text/plain": [
       "Organic Hass Avocado    213584\n",
       "Organic Avocado         176815\n",
       "Hass Avocados            50221\n",
       "Small Hass Avocado       49021\n",
       "Hass Avocado             17565\n",
       "Avocado Roll              5885\n",
       "Hass Avocado Bag          4770\n",
       "Avocado                   4354\n",
       "Hass Avocado Variety      4082\n",
       "Spicy Avocado Hummus      3373\n",
       "Name: product_name, dtype: int64"
      ]
     },
     "execution_count": 24,
     "metadata": {},
     "output_type": "execute_result"
    }
   ],
   "source": [
    "avocado_items = merge_prior['product_name'].str.contains('avocado', case=False, na=False)\n",
    "merge_prior[avocado_items].product_name.value_counts()[:10]"
   ]
  },
  {
   "cell_type": "markdown",
   "metadata": {},
   "source": [
    "## More EDA"
   ]
  },
  {
   "cell_type": "code",
   "execution_count": 42,
   "metadata": {},
   "outputs": [
    {
     "data": {
      "image/png": "[encoded data removed]",
      "text/plain": [
       "<matplotlib.figure.Figure at 0x1a22898588>"
      ]
     },
     "metadata": {},
     "output_type": "display_data"
    }
   ],
   "source": [
    "plt.figure(figsize=(12,8))\n",
    "sns.countplot(x='days_since_prior_order', data=merge_prior, color=color[2])\n",
    "plt.ylabel('Number of Items Ordered (in millions)', fontsize=12)\n",
    "plt.xlabel('Days since last order', fontsize=12)\n",
    "plt.xticks(rotation='vertical')\n",
    "y_lab = ['0', '0.5M', '1M', '1.5M', '2M', '2.5M', '3M', '3.5M']\n",
    "plt.yticks([0, 500000, 1000000, 1500000, 2000000, 2500000, 3000000, 3500000], y_lab)\n",
    "plt.title(\"Items ordered by order interval\", fontsize=15)\n",
    "plt.show()"
   ]
  },
  {
   "cell_type": "markdown",
   "metadata": {},
   "source": [
    "Here we can see that there's a spike in items ordered at 7 days since the last order, so in this dataset there seems to be several users that reorder weekly. The spike at 30 days may or may not be meaningful since 30 is the maximum value for this metric. \n",
    "\n",
    "There may be a large number of users that reorder monthly. If they have value 30, then we know they've ordered at least once before. If the value is zero, then I'll assume they placed an order, and soon thereafter thought of something they should have ordered and placed another order within the same day. There are missing values here too, so if the value is empty, I'll assume they are one-time users."
   ]
  },
  {
   "cell_type": "code",
   "execution_count": 66,
   "metadata": {},
   "outputs": [
    {
     "data": {
      "text/plain": [
       "0            8.0\n",
       "1           12.0\n",
       "2           25.0\n",
       "3            7.0\n",
       "4            5.0\n",
       "5            2.0\n",
       "6            6.0\n",
       "7           14.0\n",
       "8            5.0\n",
       "9            7.0\n",
       "10           8.0\n",
       "11           5.0\n",
       "12          30.0\n",
       "13          30.0\n",
       "14          30.0\n",
       "15           0.0\n",
       "16           8.0\n",
       "17          10.0\n",
       "18           5.0\n",
       "19           6.0\n",
       "20          20.0\n",
       "21          30.0\n",
       "22           5.0\n",
       "23           0.0\n",
       "24           8.0\n",
       "25          14.0\n",
       "26           2.0\n",
       "27          30.0\n",
       "28           7.0\n",
       "29           0.0\n",
       "            ... \n",
       "32434459     9.0\n",
       "32434460    13.0\n",
       "32434461     1.0\n",
       "32434462    12.0\n",
       "32434463     1.0\n",
       "32434464     0.0\n",
       "32434465    30.0\n",
       "32434466    30.0\n",
       "32434467    13.0\n",
       "32434468     0.0\n",
       "32434469     0.0\n",
       "32434470    13.0\n",
       "32434471    23.0\n",
       "32434472    15.0\n",
       "32434473    14.0\n",
       "32434474    30.0\n",
       "32434475     0.0\n",
       "32434476     9.0\n",
       "32434477     1.0\n",
       "32434478     5.0\n",
       "32434479    18.0\n",
       "32434480    19.0\n",
       "32434481     2.0\n",
       "32434482     8.0\n",
       "32434483     6.0\n",
       "32434484     0.0\n",
       "32434485     0.0\n",
       "32434486    14.0\n",
       "32434487    30.0\n",
       "32434488     0.0\n",
       "Name: days_since_prior_order, Length: 32434489, dtype: float64"
      ]
     },
     "execution_count": 66,
     "metadata": {},
     "output_type": "execute_result"
    }
   ],
   "source": [
    "merge_prior['days_since_prior_order'].fillna(0) # Let's replace NaNs with zeros in this column"
   ]
  },
  {
   "cell_type": "code",
   "execution_count": 55,
   "metadata": {},
   "outputs": [
    {
     "data": {
      "text/plain": [
       "1    0.879151\n",
       "0    0.120849\n",
       "Name: reordered, dtype: float64"
      ]
     },
     "execution_count": 55,
     "metadata": {},
     "output_type": "execute_result"
    }
   ],
   "source": [
    "reordered_items = merge_prior.groupby(\"order_id\")[\"reordered\"].sum().reset_index()\n",
    "reordered_items[\"reordered\"].loc[reordered_items[\"reordered\"] > 1] = 1\n",
    "reordered_items.reordered.value_counts() / len(reordered_items)"
   ]
  },
  {
   "cell_type": "markdown",
   "metadata": {},
   "source": [
    "87.9% of prior orders have reordered items. Lets add columns to \"merge prior\" for the number of times an item was ordered, reordered, then one for a calculated reorder rate for that item."
   ]
  },
  {
   "cell_type": "code",
   "execution_count": 44,
   "metadata": {},
   "outputs": [
    {
     "data": {
      "text/html": [
       "<div>\n",
       "<style>\n",
       "    .dataframe thead tr:only-child th {\n",
       "        text-align: right;\n",
       "    }\n",
       "\n",
       "    .dataframe thead th {\n",
       "        text-align: left;\n",
       "    }\n",
       "\n",
       "    .dataframe tbody tr th {\n",
       "        vertical-align: top;\n",
       "    }\n",
       "</style>\n",
       "<table border=\"1\" class=\"dataframe\">\n",
       "  <thead>\n",
       "    <tr style=\"text-align: right;\">\n",
       "      <th></th>\n",
       "      <th>order_id</th>\n",
       "      <th>product_id</th>\n",
       "      <th>add_to_cart_order</th>\n",
       "      <th>reordered</th>\n",
       "      <th>product_name</th>\n",
       "      <th>aisle_id</th>\n",
       "      <th>department_id</th>\n",
       "      <th>department</th>\n",
       "      <th>user_id</th>\n",
       "      <th>eval_set</th>\n",
       "      <th>order_number</th>\n",
       "      <th>order_dow</th>\n",
       "      <th>order_hour_of_day</th>\n",
       "      <th>days_since_prior_order</th>\n",
       "      <th>aisle</th>\n",
       "      <th>orders</th>\n",
       "      <th>reorders</th>\n",
       "      <th>reorder_rate</th>\n",
       "    </tr>\n",
       "  </thead>\n",
       "  <tbody>\n",
       "    <tr>\n",
       "      <th>0</th>\n",
       "      <td>2</td>\n",
       "      <td>33120</td>\n",
       "      <td>1</td>\n",
       "      <td>1</td>\n",
       "      <td>Organic Egg Whites</td>\n",
       "      <td>86</td>\n",
       "      <td>16</td>\n",
       "      <td>dairy eggs</td>\n",
       "      <td>202279</td>\n",
       "      <td>prior</td>\n",
       "      <td>3</td>\n",
       "      <td>5</td>\n",
       "      <td>9</td>\n",
       "      <td>8.0</td>\n",
       "      <td>eggs</td>\n",
       "      <td>19400</td>\n",
       "      <td>13744.0</td>\n",
       "      <td>0.708454</td>\n",
       "    </tr>\n",
       "    <tr>\n",
       "      <th>1</th>\n",
       "      <td>22</td>\n",
       "      <td>23341</td>\n",
       "      <td>6</td>\n",
       "      <td>1</td>\n",
       "      <td>Large Grade AA Eggs</td>\n",
       "      <td>86</td>\n",
       "      <td>16</td>\n",
       "      <td>dairy eggs</td>\n",
       "      <td>30822</td>\n",
       "      <td>prior</td>\n",
       "      <td>25</td>\n",
       "      <td>1</td>\n",
       "      <td>8</td>\n",
       "      <td>12.0</td>\n",
       "      <td>eggs</td>\n",
       "      <td>6796</td>\n",
       "      <td>4115.0</td>\n",
       "      <td>0.605503</td>\n",
       "    </tr>\n",
       "    <tr>\n",
       "      <th>2</th>\n",
       "      <td>25</td>\n",
       "      <td>6383</td>\n",
       "      <td>7</td>\n",
       "      <td>1</td>\n",
       "      <td>All Whites 100% Egg Whites</td>\n",
       "      <td>86</td>\n",
       "      <td>16</td>\n",
       "      <td>dairy eggs</td>\n",
       "      <td>59897</td>\n",
       "      <td>prior</td>\n",
       "      <td>19</td>\n",
       "      <td>6</td>\n",
       "      <td>10</td>\n",
       "      <td>25.0</td>\n",
       "      <td>eggs</td>\n",
       "      <td>3390</td>\n",
       "      <td>2231.0</td>\n",
       "      <td>0.658112</td>\n",
       "    </tr>\n",
       "    <tr>\n",
       "      <th>3</th>\n",
       "      <td>26</td>\n",
       "      <td>33120</td>\n",
       "      <td>5</td>\n",
       "      <td>0</td>\n",
       "      <td>Organic Egg Whites</td>\n",
       "      <td>86</td>\n",
       "      <td>16</td>\n",
       "      <td>dairy eggs</td>\n",
       "      <td>153404</td>\n",
       "      <td>prior</td>\n",
       "      <td>2</td>\n",
       "      <td>0</td>\n",
       "      <td>16</td>\n",
       "      <td>7.0</td>\n",
       "      <td>eggs</td>\n",
       "      <td>19400</td>\n",
       "      <td>13744.0</td>\n",
       "      <td>0.708454</td>\n",
       "    </tr>\n",
       "    <tr>\n",
       "      <th>4</th>\n",
       "      <td>55</td>\n",
       "      <td>11520</td>\n",
       "      <td>12</td>\n",
       "      <td>0</td>\n",
       "      <td>Large Alfresco Eggs</td>\n",
       "      <td>86</td>\n",
       "      <td>16</td>\n",
       "      <td>dairy eggs</td>\n",
       "      <td>127522</td>\n",
       "      <td>prior</td>\n",
       "      <td>8</td>\n",
       "      <td>4</td>\n",
       "      <td>14</td>\n",
       "      <td>5.0</td>\n",
       "      <td>eggs</td>\n",
       "      <td>40376</td>\n",
       "      <td>31321.0</td>\n",
       "      <td>0.775733</td>\n",
       "    </tr>\n",
       "  </tbody>\n",
       "</table>\n",
       "</div>"
      ],
      "text/plain": [
       "   order_id  product_id  add_to_cart_order  reordered  \\\n",
       "0         2       33120                  1          1   \n",
       "1        22       23341                  6          1   \n",
       "2        25        6383                  7          1   \n",
       "3        26       33120                  5          0   \n",
       "4        55       11520                 12          0   \n",
       "\n",
       "                 product_name  aisle_id  department_id  department  user_id  \\\n",
       "0          Organic Egg Whites        86             16  dairy eggs   202279   \n",
       "1         Large Grade AA Eggs        86             16  dairy eggs    30822   \n",
       "2  All Whites 100% Egg Whites        86             16  dairy eggs    59897   \n",
       "3          Organic Egg Whites        86             16  dairy eggs   153404   \n",
       "4         Large Alfresco Eggs        86             16  dairy eggs   127522   \n",
       "\n",
       "  eval_set  order_number  order_dow  order_hour_of_day  \\\n",
       "0    prior             3          5                  9   \n",
       "1    prior            25          1                  8   \n",
       "2    prior            19          6                 10   \n",
       "3    prior             2          0                 16   \n",
       "4    prior             8          4                 14   \n",
       "\n",
       "   days_since_prior_order aisle  orders  reorders  reorder_rate  \n",
       "0                     8.0  eggs   19400   13744.0      0.708454  \n",
       "1                    12.0  eggs    6796    4115.0      0.605503  \n",
       "2                    25.0  eggs    3390    2231.0      0.658112  \n",
       "3                     7.0  eggs   19400   13744.0      0.708454  \n",
       "4                     5.0  eggs   40376   31321.0      0.775733  "
      ]
     },
     "execution_count": 44,
     "metadata": {},
     "output_type": "execute_result"
    }
   ],
   "source": [
    "prods = pd.DataFrame()\n",
    "prods['orders'] = merge_prior.groupby(merge_prior.product_id).size().astype(np.int32)\n",
    "prods['reorders'] = merge_prior['reordered'].groupby(merge_prior.product_id).sum().astype(np.float32)\n",
    "prods['reorder_rate'] = (prods.reorders / prods.orders).astype(np.float32)\n",
    "merge_prior = merge_prior.join(prods, on='product_id')\n",
    "del prods\n",
    "\n",
    "merge_prior[:5]"
   ]
  },
  {
   "cell_type": "code",
   "execution_count": 59,
   "metadata": {},
   "outputs": [
    {
     "data": {
      "text/html": [
       "<div>\n",
       "<style>\n",
       "    .dataframe thead tr:only-child th {\n",
       "        text-align: right;\n",
       "    }\n",
       "\n",
       "    .dataframe thead th {\n",
       "        text-align: left;\n",
       "    }\n",
       "\n",
       "    .dataframe tbody tr th {\n",
       "        vertical-align: top;\n",
       "    }\n",
       "</style>\n",
       "<table border=\"1\" class=\"dataframe\">\n",
       "  <thead>\n",
       "    <tr style=\"text-align: right;\">\n",
       "      <th></th>\n",
       "      <th>order_id</th>\n",
       "      <th>product_id</th>\n",
       "      <th>add_to_cart_order</th>\n",
       "      <th>reordered</th>\n",
       "      <th>product_name</th>\n",
       "      <th>aisle_id</th>\n",
       "      <th>department_id</th>\n",
       "      <th>department</th>\n",
       "      <th>user_id</th>\n",
       "      <th>eval_set</th>\n",
       "      <th>order_number</th>\n",
       "      <th>order_dow</th>\n",
       "      <th>order_hour_of_day</th>\n",
       "      <th>days_since_prior_order</th>\n",
       "      <th>aisle</th>\n",
       "      <th>orders</th>\n",
       "      <th>reorders</th>\n",
       "      <th>reorder_rate</th>\n",
       "    </tr>\n",
       "  </thead>\n",
       "  <tbody>\n",
       "    <tr>\n",
       "      <th>0</th>\n",
       "      <td>2</td>\n",
       "      <td>33120</td>\n",
       "      <td>1</td>\n",
       "      <td>1</td>\n",
       "      <td>organic_egg_whites</td>\n",
       "      <td>86</td>\n",
       "      <td>16</td>\n",
       "      <td>dairy_eggs</td>\n",
       "      <td>202279</td>\n",
       "      <td>prior</td>\n",
       "      <td>3</td>\n",
       "      <td>5</td>\n",
       "      <td>9</td>\n",
       "      <td>8.0</td>\n",
       "      <td>eggs</td>\n",
       "      <td>19400</td>\n",
       "      <td>13744.0</td>\n",
       "      <td>0.708454</td>\n",
       "    </tr>\n",
       "    <tr>\n",
       "      <th>1</th>\n",
       "      <td>22</td>\n",
       "      <td>23341</td>\n",
       "      <td>6</td>\n",
       "      <td>1</td>\n",
       "      <td>large_grade_aa_eggs</td>\n",
       "      <td>86</td>\n",
       "      <td>16</td>\n",
       "      <td>dairy_eggs</td>\n",
       "      <td>30822</td>\n",
       "      <td>prior</td>\n",
       "      <td>25</td>\n",
       "      <td>1</td>\n",
       "      <td>8</td>\n",
       "      <td>12.0</td>\n",
       "      <td>eggs</td>\n",
       "      <td>6796</td>\n",
       "      <td>4115.0</td>\n",
       "      <td>0.605503</td>\n",
       "    </tr>\n",
       "    <tr>\n",
       "      <th>2</th>\n",
       "      <td>25</td>\n",
       "      <td>6383</td>\n",
       "      <td>7</td>\n",
       "      <td>1</td>\n",
       "      <td>all_whites_100%_egg_whites</td>\n",
       "      <td>86</td>\n",
       "      <td>16</td>\n",
       "      <td>dairy_eggs</td>\n",
       "      <td>59897</td>\n",
       "      <td>prior</td>\n",
       "      <td>19</td>\n",
       "      <td>6</td>\n",
       "      <td>10</td>\n",
       "      <td>25.0</td>\n",
       "      <td>eggs</td>\n",
       "      <td>3390</td>\n",
       "      <td>2231.0</td>\n",
       "      <td>0.658112</td>\n",
       "    </tr>\n",
       "    <tr>\n",
       "      <th>3</th>\n",
       "      <td>26</td>\n",
       "      <td>33120</td>\n",
       "      <td>5</td>\n",
       "      <td>0</td>\n",
       "      <td>organic_egg_whites</td>\n",
       "      <td>86</td>\n",
       "      <td>16</td>\n",
       "      <td>dairy_eggs</td>\n",
       "      <td>153404</td>\n",
       "      <td>prior</td>\n",
       "      <td>2</td>\n",
       "      <td>0</td>\n",
       "      <td>16</td>\n",
       "      <td>7.0</td>\n",
       "      <td>eggs</td>\n",
       "      <td>19400</td>\n",
       "      <td>13744.0</td>\n",
       "      <td>0.708454</td>\n",
       "    </tr>\n",
       "    <tr>\n",
       "      <th>4</th>\n",
       "      <td>55</td>\n",
       "      <td>11520</td>\n",
       "      <td>12</td>\n",
       "      <td>0</td>\n",
       "      <td>large_alfresco_eggs</td>\n",
       "      <td>86</td>\n",
       "      <td>16</td>\n",
       "      <td>dairy_eggs</td>\n",
       "      <td>127522</td>\n",
       "      <td>prior</td>\n",
       "      <td>8</td>\n",
       "      <td>4</td>\n",
       "      <td>14</td>\n",
       "      <td>5.0</td>\n",
       "      <td>eggs</td>\n",
       "      <td>40376</td>\n",
       "      <td>31321.0</td>\n",
       "      <td>0.775733</td>\n",
       "    </tr>\n",
       "  </tbody>\n",
       "</table>\n",
       "</div>"
      ],
      "text/plain": [
       "   order_id  product_id  add_to_cart_order  reordered  \\\n",
       "0         2       33120                  1          1   \n",
       "1        22       23341                  6          1   \n",
       "2        25        6383                  7          1   \n",
       "3        26       33120                  5          0   \n",
       "4        55       11520                 12          0   \n",
       "\n",
       "                 product_name  aisle_id  department_id  department  user_id  \\\n",
       "0          organic_egg_whites        86             16  dairy_eggs   202279   \n",
       "1         large_grade_aa_eggs        86             16  dairy_eggs    30822   \n",
       "2  all_whites_100%_egg_whites        86             16  dairy_eggs    59897   \n",
       "3          organic_egg_whites        86             16  dairy_eggs   153404   \n",
       "4         large_alfresco_eggs        86             16  dairy_eggs   127522   \n",
       "\n",
       "  eval_set  order_number  order_dow  order_hour_of_day  \\\n",
       "0    prior             3          5                  9   \n",
       "1    prior            25          1                  8   \n",
       "2    prior            19          6                 10   \n",
       "3    prior             2          0                 16   \n",
       "4    prior             8          4                 14   \n",
       "\n",
       "   days_since_prior_order aisle  orders  reorders  reorder_rate  \n",
       "0                     8.0  eggs   19400   13744.0      0.708454  \n",
       "1                    12.0  eggs    6796    4115.0      0.605503  \n",
       "2                    25.0  eggs    3390    2231.0      0.658112  \n",
       "3                     7.0  eggs   19400   13744.0      0.708454  \n",
       "4                     5.0  eggs   40376   31321.0      0.775733  "
      ]
     },
     "execution_count": 59,
     "metadata": {},
     "output_type": "execute_result"
    }
   ],
   "source": [
    "# replace spaces in product_name, department, and aisle with underscore, and make all lower case\n",
    "merge_prior.product_name = merge_prior.product_name.str.replace(' ', '_').str.lower()\n",
    "merge_prior.department = merge_prior.department.str.replace(' ', '_').str.lower()\n",
    "merge_prior.aisle = merge_prior.aisle.str.replace(' ', '_').str.lower()\n",
    "merge_prior[:5]"
   ]
  },
  {
   "cell_type": "markdown",
   "metadata": {},
   "source": [
    "Now we can build a users dataframe that aggregates information by user_id."
   ]
  },
  {
   "cell_type": "code",
   "execution_count": 67,
   "metadata": {
    "scrolled": true
   },
   "outputs": [
    {
     "data": {
      "text/html": [
       "<div>\n",
       "<style>\n",
       "    .dataframe thead tr:only-child th {\n",
       "        text-align: right;\n",
       "    }\n",
       "\n",
       "    .dataframe thead th {\n",
       "        text-align: left;\n",
       "    }\n",
       "\n",
       "    .dataframe tbody tr th {\n",
       "        vertical-align: top;\n",
       "    }\n",
       "</style>\n",
       "<table border=\"1\" class=\"dataframe\">\n",
       "  <thead>\n",
       "    <tr style=\"text-align: right;\">\n",
       "      <th></th>\n",
       "      <th>user_id</th>\n",
       "      <th>total_items</th>\n",
       "      <th>all_products</th>\n",
       "      <th>total_distinct_items</th>\n",
       "      <th>average_days_between_orders</th>\n",
       "      <th>number_of_orders</th>\n",
       "      <th>average_basket</th>\n",
       "    </tr>\n",
       "  </thead>\n",
       "  <tbody>\n",
       "    <tr>\n",
       "      <th>0</th>\n",
       "      <td>1</td>\n",
       "      <td>59</td>\n",
       "      <td>{17122, 14084, 26405, 196, 46149, 13032, 39657...</td>\n",
       "      <td>18</td>\n",
       "      <td>19.000000</td>\n",
       "      <td>11</td>\n",
       "      <td>5.363636</td>\n",
       "    </tr>\n",
       "    <tr>\n",
       "      <th>1</th>\n",
       "      <td>2</td>\n",
       "      <td>195</td>\n",
       "      <td>{45066, 2573, 18961, 1559, 23, 32792, 22559, 1...</td>\n",
       "      <td>102</td>\n",
       "      <td>16.285715</td>\n",
       "      <td>15</td>\n",
       "      <td>13.000000</td>\n",
       "    </tr>\n",
       "    <tr>\n",
       "      <th>2</th>\n",
       "      <td>3</td>\n",
       "      <td>88</td>\n",
       "      <td>{17668, 44683, 48523, 21903, 14992, 21137, 324...</td>\n",
       "      <td>33</td>\n",
       "      <td>12.000000</td>\n",
       "      <td>13</td>\n",
       "      <td>6.769231</td>\n",
       "    </tr>\n",
       "    <tr>\n",
       "      <th>3</th>\n",
       "      <td>4</td>\n",
       "      <td>18</td>\n",
       "      <td>{21573, 42329, 17769, 22199, 35469, 37646, 265...</td>\n",
       "      <td>17</td>\n",
       "      <td>17.000000</td>\n",
       "      <td>6</td>\n",
       "      <td>3.000000</td>\n",
       "    </tr>\n",
       "    <tr>\n",
       "      <th>4</th>\n",
       "      <td>5</td>\n",
       "      <td>37</td>\n",
       "      <td>{11777, 40706, 28289, 48775, 20754, 6808, 1398...</td>\n",
       "      <td>23</td>\n",
       "      <td>11.500000</td>\n",
       "      <td>5</td>\n",
       "      <td>7.400000</td>\n",
       "    </tr>\n",
       "  </tbody>\n",
       "</table>\n",
       "</div>"
      ],
      "text/plain": [
       "   user_id  total_items                                       all_products  \\\n",
       "0        1           59  {17122, 14084, 26405, 196, 46149, 13032, 39657...   \n",
       "1        2          195  {45066, 2573, 18961, 1559, 23, 32792, 22559, 1...   \n",
       "2        3           88  {17668, 44683, 48523, 21903, 14992, 21137, 324...   \n",
       "3        4           18  {21573, 42329, 17769, 22199, 35469, 37646, 265...   \n",
       "4        5           37  {11777, 40706, 28289, 48775, 20754, 6808, 1398...   \n",
       "\n",
       "   total_distinct_items  average_days_between_orders  number_of_orders  \\\n",
       "0                    18                    19.000000                11   \n",
       "1                   102                    16.285715                15   \n",
       "2                    33                    12.000000                13   \n",
       "3                    17                    17.000000                 6   \n",
       "4                    23                    11.500000                 5   \n",
       "\n",
       "   average_basket  \n",
       "0        5.363636  \n",
       "1       13.000000  \n",
       "2        6.769231  \n",
       "3        3.000000  \n",
       "4        7.400000  "
      ]
     },
     "execution_count": 67,
     "metadata": {},
     "output_type": "execute_result"
    }
   ],
   "source": [
    "usr = pd.DataFrame()\n",
    "usr['average_days_between_orders'] = orders.groupby('user_id')['days_since_prior_order'].mean().astype(np.float32)\n",
    "usr['number_of_orders'] = orders.groupby('user_id').size().astype(np.int16)\n",
    "\n",
    "users = pd.DataFrame()\n",
    "users['total_items'] = merge_prior.groupby('user_id').size().astype(np.int16)\n",
    "users['all_products'] = merge_prior.groupby('user_id')['product_id'].apply(set)\n",
    "users['total_distinct_items'] = (users.all_products.map(len)).astype(np.int16)\n",
    "\n",
    "users = users.join(usr)\n",
    "del usr\n",
    "users['average_basket'] = (users.total_items / users.number_of_orders).astype(np.float32)\n",
    "\n",
    "users = users.reset_index()\n",
    "users[:5]"
   ]
  },
  {
   "cell_type": "code",
   "execution_count": 52,
   "metadata": {},
   "outputs": [
    {
     "data": {
      "text/plain": [
       "0"
      ]
     },
     "execution_count": 52,
     "metadata": {},
     "output_type": "execute_result"
    }
   ],
   "source": [
    "len(users) - len(users['user_id'].unique()) # All user_ids in dataframe are unique"
   ]
  },
  {
   "cell_type": "markdown",
   "metadata": {},
   "source": [
    "Now we have a dataframe showing a dictionary of all items previously ordered and insightfuls stats indexed by user."
   ]
  },
  {
   "cell_type": "code",
   "execution_count": 68,
   "metadata": {},
   "outputs": [
    {
     "data": {
      "text/html": [
       "<div>\n",
       "<style>\n",
       "    .dataframe thead tr:only-child th {\n",
       "        text-align: right;\n",
       "    }\n",
       "\n",
       "    .dataframe thead th {\n",
       "        text-align: left;\n",
       "    }\n",
       "\n",
       "    .dataframe tbody tr th {\n",
       "        vertical-align: top;\n",
       "    }\n",
       "</style>\n",
       "<table border=\"1\" class=\"dataframe\">\n",
       "  <thead>\n",
       "    <tr style=\"text-align: right;\">\n",
       "      <th></th>\n",
       "      <th>total_items</th>\n",
       "      <th>all_products</th>\n",
       "      <th>total_distinct_items</th>\n",
       "      <th>average_days_between_orders</th>\n",
       "      <th>number_of_orders</th>\n",
       "      <th>average_basket</th>\n",
       "    </tr>\n",
       "    <tr>\n",
       "      <th>user_id</th>\n",
       "      <th></th>\n",
       "      <th></th>\n",
       "      <th></th>\n",
       "      <th></th>\n",
       "      <th></th>\n",
       "      <th></th>\n",
       "    </tr>\n",
       "  </thead>\n",
       "  <tbody>\n",
       "    <tr>\n",
       "      <th>1</th>\n",
       "      <td>59</td>\n",
       "      <td>{17122, 14084, 26405, 196, 46149, 13032, 39657...</td>\n",
       "      <td>18</td>\n",
       "      <td>19.000000</td>\n",
       "      <td>11</td>\n",
       "      <td>5.363636</td>\n",
       "    </tr>\n",
       "    <tr>\n",
       "      <th>2</th>\n",
       "      <td>195</td>\n",
       "      <td>{45066, 2573, 18961, 1559, 23, 32792, 22559, 1...</td>\n",
       "      <td>102</td>\n",
       "      <td>16.285715</td>\n",
       "      <td>15</td>\n",
       "      <td>13.000000</td>\n",
       "    </tr>\n",
       "    <tr>\n",
       "      <th>3</th>\n",
       "      <td>88</td>\n",
       "      <td>{17668, 44683, 48523, 21903, 14992, 21137, 324...</td>\n",
       "      <td>33</td>\n",
       "      <td>12.000000</td>\n",
       "      <td>13</td>\n",
       "      <td>6.769231</td>\n",
       "    </tr>\n",
       "    <tr>\n",
       "      <th>4</th>\n",
       "      <td>18</td>\n",
       "      <td>{21573, 42329, 17769, 22199, 35469, 37646, 265...</td>\n",
       "      <td>17</td>\n",
       "      <td>17.000000</td>\n",
       "      <td>6</td>\n",
       "      <td>3.000000</td>\n",
       "    </tr>\n",
       "    <tr>\n",
       "      <th>5</th>\n",
       "      <td>37</td>\n",
       "      <td>{11777, 40706, 28289, 48775, 20754, 6808, 1398...</td>\n",
       "      <td>23</td>\n",
       "      <td>11.500000</td>\n",
       "      <td>5</td>\n",
       "      <td>7.400000</td>\n",
       "    </tr>\n",
       "  </tbody>\n",
       "</table>\n",
       "</div>"
      ],
      "text/plain": [
       "         total_items                                       all_products  \\\n",
       "user_id                                                                   \n",
       "1                 59  {17122, 14084, 26405, 196, 46149, 13032, 39657...   \n",
       "2                195  {45066, 2573, 18961, 1559, 23, 32792, 22559, 1...   \n",
       "3                 88  {17668, 44683, 48523, 21903, 14992, 21137, 324...   \n",
       "4                 18  {21573, 42329, 17769, 22199, 35469, 37646, 265...   \n",
       "5                 37  {11777, 40706, 28289, 48775, 20754, 6808, 1398...   \n",
       "\n",
       "         total_distinct_items  average_days_between_orders  number_of_orders  \\\n",
       "user_id                                                                        \n",
       "1                          18                    19.000000                11   \n",
       "2                         102                    16.285715                15   \n",
       "3                          33                    12.000000                13   \n",
       "4                          17                    17.000000                 6   \n",
       "5                          23                    11.500000                 5   \n",
       "\n",
       "         average_basket  \n",
       "user_id                  \n",
       "1              5.363636  \n",
       "2             13.000000  \n",
       "3              6.769231  \n",
       "4              3.000000  \n",
       "5              7.400000  "
      ]
     },
     "execution_count": 68,
     "metadata": {},
     "output_type": "execute_result"
    }
   ],
   "source": [
    "users = users.set_index('user_id')\n",
    "users[:5]"
   ]
  }
 ],
 "metadata": {
  "kernelspec": {
   "display_name": "Python 3",
   "language": "python",
   "name": "python3"
  },
  "language_info": {
   "codemirror_mode": {
    "name": "ipython",
    "version": 3
   },
   "file_extension": ".py",
   "mimetype": "text/x-python",
   "name": "python",
   "nbconvert_exporter": "python",
   "pygments_lexer": "ipython3",
   "version": "3.6.2"
  }
 },
 "nbformat": 4,
 "nbformat_minor": 1
}
